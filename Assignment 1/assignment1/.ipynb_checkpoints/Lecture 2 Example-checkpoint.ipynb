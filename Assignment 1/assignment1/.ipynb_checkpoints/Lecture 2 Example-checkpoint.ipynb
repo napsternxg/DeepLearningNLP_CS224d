{
 "cells": [
  {
   "cell_type": "code",
   "execution_count": 1,
   "metadata": {
    "collapsed": true
   },
   "outputs": [],
   "source": [
    "import nltk\n",
    "import numpy as np\n",
    "import matplotlib.pyplot as plt\n",
    "\n",
    "# This is a bit of magic to make matplotlib figures appear inline in the notebook\n",
    "# rather than in a new window.\n",
    "%matplotlib inline\n",
    "plt.rcParams['figure.figsize'] = (10.0, 8.0) # set default size of plots\n",
    "plt.rcParams['image.interpolation'] = 'nearest'\n",
    "plt.rcParams['image.cmap'] = 'gray'\n"
   ]
  },
  {
   "cell_type": "code",
   "execution_count": 2,
   "metadata": {
    "collapsed": true
   },
   "outputs": [],
   "source": [
    "sentences = [\"I like deep learning.\", \"I like NLP.\", \"I enjoy flying.\"]"
   ]
  },
  {
   "cell_type": "code",
   "execution_count": 3,
   "metadata": {
    "collapsed": false
   },
   "outputs": [],
   "source": [
    "tk = nltk.tokenize.WordPunctTokenizer()"
   ]
  },
  {
   "cell_type": "code",
   "execution_count": 4,
   "metadata": {
    "collapsed": false
   },
   "outputs": [
    {
     "name": "stdout",
     "output_type": "stream",
     "text": [
      "{'enjoy': 6, 'NLP': 5, 'like': 1, 'I': 0, 'flying': 7, 'deep': 2, '.': 4, 'learning': 3}\n",
      "[[1, 1, 1, 1, 1, 0, 0, 0], [1, 1, 0, 0, 1, 1, 0, 0], [1, 0, 0, 0, 1, 0, 1, 1]]\n"
     ]
    }
   ],
   "source": [
    "\"\"\"\n",
    "Generate the vocabulary and the scentence tokens.\n",
    "\"\"\"\n",
    "vocab = dict()\n",
    "vocab_list = []\n",
    "i = 0\n",
    "sent_tokens_vector = []\n",
    "for k in sentences:\n",
    "    words = tk.tokenize(k)\n",
    "    sent_tokens_vector.append(words)\n",
    "    for word in words:\n",
    "        if word not in vocab:\n",
    "            vocab[word] = i\n",
    "            vocab_list.append(word)\n",
    "            i += 1\n",
    "print vocab\n",
    "sent_vectors = [[0]*len(vocab) for _ in sentences]\n",
    "for i, sent_tokens in enumerate(sent_tokens_vector):\n",
    "    for word in sent_tokens:\n",
    "        sent_vectors[i][vocab[word]] = 1\n",
    "print sent_vectors"
   ]
  },
  {
   "cell_type": "code",
   "execution_count": 5,
   "metadata": {
    "collapsed": false
   },
   "outputs": [
    {
     "name": "stdout",
     "output_type": "stream",
     "text": [
      "                     I       like       deep   learning          .        NLP      enjoy     flying\n",
      "         I         0.0        2.0        0.0        0.0        0.0        0.0        1.0        0.0\n",
      "      like         2.0        0.0        1.0        0.0        0.0        1.0        0.0        0.0\n",
      "      deep         0.0        1.0        0.0        1.0        0.0        0.0        0.0        0.0\n",
      "  learning         0.0        0.0        1.0        0.0        1.0        0.0        0.0        0.0\n",
      "         .         0.0        0.0        0.0        1.0        0.0        1.0        0.0        1.0\n",
      "       NLP         0.0        1.0        0.0        0.0        1.0        0.0        0.0        0.0\n",
      "     enjoy         1.0        0.0        0.0        0.0        0.0        0.0        0.0        1.0\n",
      "    flying         0.0        0.0        0.0        0.0        1.0        0.0        1.0        0.0\n"
     ]
    }
   ],
   "source": [
    "\"\"\"\n",
    "Generate count co-occurence matrix\n",
    "\"\"\"\n",
    "co_occur_mat = np.zeros([len(vocab)]*2)\n",
    "for sent_vector in sent_tokens_vector:\n",
    "    for i, val in enumerate(sent_vector[:-1]):\n",
    "        word_id = vocab[val]\n",
    "        next_word_id = vocab[sent_vector[i+1]]\n",
    "        co_occur_mat[word_id][next_word_id] += 1\n",
    "        co_occur_mat[next_word_id][word_id] = co_occur_mat[word_id][next_word_id]\n",
    "\n",
    "\n",
    "\n",
    "print \"{:>10} \".format(\"\"),\" \".join(\"{:>10}\".format(k) for k in vocab_list)\n",
    "for i, row in enumerate(co_occur_mat):\n",
    "    print \"{:>10} \".format(vocab_list[i]),\" \".join(\"{:>10}\".format(k) for k in row)"
   ]
  },
  {
   "cell_type": "code",
   "execution_count": 6,
   "metadata": {
    "collapsed": false
   },
   "outputs": [
    {
     "name": "stdout",
     "output_type": "stream",
     "text": [
      "         I ~       deep = 2.0; [ 0.  2.  0.  0.  0.  0.  1.  0.]\t[ 0.  1.  0.  1.  0.  0.  0.  0.]\n",
      "         I ~        NLP = 2.0; [ 0.  2.  0.  0.  0.  0.  1.  0.]\t[ 0.  1.  0.  0.  1.  0.  0.  0.]\n",
      "         I ~     flying = 1.0; [ 0.  2.  0.  0.  0.  0.  1.  0.]\t[ 0.  0.  0.  0.  1.  0.  1.  0.]\n",
      "      like ~   learning = 1.0; [ 2.  0.  1.  0.  0.  1.  0.  0.]\t[ 0.  0.  1.  0.  1.  0.  0.  0.]\n",
      "      like ~          . = 1.0; [ 2.  0.  1.  0.  0.  1.  0.  0.]\t[ 0.  0.  0.  1.  0.  1.  0.  1.]\n",
      "      like ~      enjoy = 2.0; [ 2.  0.  1.  0.  0.  1.  0.  0.]\t[ 1.  0.  0.  0.  0.  0.  0.  1.]\n",
      "      deep ~          . = 1.0; [ 0.  1.  0.  1.  0.  0.  0.  0.]\t[ 0.  0.  0.  1.  0.  1.  0.  1.]\n",
      "      deep ~        NLP = 1.0; [ 0.  1.  0.  1.  0.  0.  0.  0.]\t[ 0.  1.  0.  0.  1.  0.  0.  0.]\n",
      "  learning ~        NLP = 1.0; [ 0.  0.  1.  0.  1.  0.  0.  0.]\t[ 0.  1.  0.  0.  1.  0.  0.  0.]\n",
      "  learning ~     flying = 1.0; [ 0.  0.  1.  0.  1.  0.  0.  0.]\t[ 0.  0.  0.  0.  1.  0.  1.  0.]\n",
      "         . ~      enjoy = 1.0; [ 0.  0.  0.  1.  0.  1.  0.  1.]\t[ 1.  0.  0.  0.  0.  0.  0.  1.]\n",
      "       NLP ~     flying = 1.0; [ 0.  1.  0.  0.  1.  0.  0.  0.]\t[ 0.  0.  0.  0.  1.  0.  1.  0.]\n"
     ]
    }
   ],
   "source": [
    "\"\"\"\n",
    "Print word similarity\n",
    "\"\"\"\n",
    "for i, word in enumerate(vocab_list):\n",
    "    for j, word2 in enumerate(vocab_list[i+1:]):\n",
    "        score = np.dot(co_occur_mat[i], co_occur_mat[i+1+j])\n",
    "        if score > 1e-10: # Only print similar words in the vocab.\n",
    "            print \"{:>10} ~ {:>10} = {:>3}; {}\\t{}\".format(word, word2,score, co_occur_mat[i], co_occur_mat[i+1+j])"
   ]
  },
  {
   "cell_type": "code",
   "execution_count": 7,
   "metadata": {
    "collapsed": false
   },
   "outputs": [
    {
     "name": "stdout",
     "output_type": "stream",
     "text": [
      "(8L, 8L)\n",
      "(8L,)\n",
      "(8L, 8L)\n"
     ]
    }
   ],
   "source": [
    "\"\"\"\n",
    "Singular value decomposition of co-occurence matrix.\n",
    "\"\"\"\n",
    "\n",
    "U, s, Vh = np.linalg.svd(co_occur_mat, full_matrices=False)\n",
    "print U.shape\n",
    "print s.shape\n",
    "print Vh.shape"
   ]
  },
  {
   "cell_type": "code",
   "execution_count": 8,
   "metadata": {
    "collapsed": false
   },
   "outputs": [
    {
     "data": {
      "image/png": "[encoded data removed]",
      "text/plain": [
       "<matplotlib.figure.Figure at 0x172a8b00>"
      ]
     },
     "metadata": {},
     "output_type": "display_data"
    }
   ],
   "source": [
    "\"\"\"\n",
    "Plot the similarity of words on 2 dimensions.\n",
    "\"\"\"\n",
    "for i, word in enumerate(vocab_list):\n",
    "    plt.text(U[i,0], U[i,1], word)"
   ]
  },
  {
   "cell_type": "code",
   "execution_count": 78,
   "metadata": {
    "collapsed": false
   },
   "outputs": [],
   "source": [
    "def softmax(x):\n",
    "    if x.ndim == 1:\n",
    "        x = x.reshape(1,x.shape[0])\n",
    "    #print \"Computing softmax\"\n",
    "    #print x, x.shape\n",
    "    max_row = np.max(x,axis=1).reshape(x.shape[0],1)\n",
    "    x = x - max_row\n",
    "    exp_x = np.exp(x)\n",
    "    sum_row = np.sum(exp_x,axis=1).reshape(x.shape[0],1)\n",
    "    #print exp_x\n",
    "    #print sum_row\n",
    "    #print max_row\n",
    "    return exp_x/(sum_row)"
   ]
  },
  {
   "cell_type": "code",
   "execution_count": 10,
   "metadata": {
    "collapsed": false
   },
   "outputs": [
    {
     "name": "stdout",
     "output_type": "stream",
     "text": [
      "Computing softmax\n",
      "[[1 2]\n",
      " [3 4]] (2L, 2L)\n",
      "[[ 0.36787944  1.        ]\n",
      " [ 0.36787944  1.        ]]\n",
      "[[ 1.36787944]\n",
      " [ 1.36787944]]\n",
      "[[2]\n",
      " [4]]\n",
      "[[ 0.26894142  0.73105858]\n",
      " [ 0.26894142  0.73105858]]\n",
      "Computing softmax\n",
      "[[1 2]\n",
      " [3 4]\n",
      " [5 6]] (3L, 2L)\n",
      "[[ 0.36787944  1.        ]\n",
      " [ 0.36787944  1.        ]\n",
      " [ 0.36787944  1.        ]]\n",
      "[[ 1.36787944]\n",
      " [ 1.36787944]\n",
      " [ 1.36787944]]\n",
      "[[2]\n",
      " [4]\n",
      " [6]]\n",
      "[[ 0.26894142  0.73105858]\n",
      " [ 0.26894142  0.73105858]\n",
      " [ 0.26894142  0.73105858]]\n",
      "Computing softmax\n",
      "[[1 2]] (1L, 2L)\n",
      "[[ 0.36787944  1.        ]]\n",
      "[[ 1.36787944]]\n",
      "[[2]]\n",
      "[[ 0.26894142  0.73105858]]\n"
     ]
    }
   ],
   "source": [
    "X = np.array([[1,2],[3,4]])\n",
    "#the output of your functions should be\n",
    "X_out = [[0.2689, 0.7311],[0.2689, 0.7311]]\n",
    "print softmax(X)\n",
    "\n",
    "X = np.array([[1,2],[3,4], [5,6]])\n",
    "print softmax(X)\n",
    "\n",
    "\n",
    "X = np.array([1,2])\n",
    "print softmax(X)"
   ]
  },
  {
   "cell_type": "code",
   "execution_count": 11,
   "metadata": {
    "collapsed": false
   },
   "outputs": [
    {
     "data": {
      "text/plain": [
       "array([[1, 2]])"
      ]
     },
     "execution_count": 11,
     "metadata": {},
     "output_type": "execute_result"
    }
   ],
   "source": [
    "X.reshape(1,X.shape[0])"
   ]
  },
  {
   "cell_type": "code",
   "execution_count": 12,
   "metadata": {
    "collapsed": false
   },
   "outputs": [
    {
     "name": "stdout",
     "output_type": "stream",
     "text": [
      "Computing softmax\n",
      "[[1001 1002]\n",
      " [   3    4]] (2L, 2L)\n",
      "[[ 0.36787944  1.        ]\n",
      " [ 0.36787944  1.        ]]\n",
      "[[ 1.36787944]\n",
      " [ 1.36787944]]\n",
      "[[1002]\n",
      " [   4]]\n",
      "[[ 0.26894142  0.73105858]\n",
      " [ 0.26894142  0.73105858]]\n",
      "Computing softmax\n",
      "[[-1001 -1002]] (1L, 2L)\n",
      "[[ 1.          0.36787944]]\n",
      "[[ 1.36787944]]\n",
      "[[-1001]]\n",
      "[[ 0.73105858  0.26894142]]\n"
     ]
    }
   ],
   "source": [
    "print softmax(np.array([[1001,1002],[3,4]]))\n",
    "print softmax(np.array([[-1001,-1002]]))"
   ]
  },
  {
   "cell_type": "code",
   "execution_count": 13,
   "metadata": {
    "collapsed": true
   },
   "outputs": [],
   "source": [
    "def sigmoid(x):\n",
    "    \"\"\" Sigmoid function \"\"\"\n",
    "    ###################################################################\n",
    "    # Compute the sigmoid function for the input here.                #\n",
    "    ###################################################################\n",
    "    \n",
    "    ### YOUR CODE HERE\n",
    "    x = 1./(1+np.exp(-x))\n",
    "    ### END YOUR CODE\n",
    "    \n",
    "    return x\n",
    "\n",
    "def sigmoid_grad(f):\n",
    "    \"\"\" Sigmoid gradient function \"\"\"\n",
    "    ###################################################################\n",
    "    # Compute the gradient for the sigmoid function here. Note that   #\n",
    "    # for this implementation, the input f should be the sigmoid      #\n",
    "    # function value of your original input x.                        #\n",
    "    ###################################################################\n",
    "    \n",
    "    ### YOUR CODE HERE\n",
    "    f = f*(1-f)\n",
    "    ### END YOUR CODE\n",
    "    \n",
    "    return f"
   ]
  },
  {
   "cell_type": "code",
   "execution_count": 14,
   "metadata": {
    "collapsed": false
   },
   "outputs": [
    {
     "data": {
      "text/plain": [
       "0.5"
      ]
     },
     "execution_count": 14,
     "metadata": {},
     "output_type": "execute_result"
    }
   ],
   "source": [
    "sigmoid(0)"
   ]
  },
  {
   "cell_type": "code",
   "execution_count": 15,
   "metadata": {
    "collapsed": false
   },
   "outputs": [
    {
     "data": {
      "text/plain": [
       "0.25"
      ]
     },
     "execution_count": 15,
     "metadata": {},
     "output_type": "execute_result"
    }
   ],
   "source": [
    "sigmoid_grad(sigmoid(0))"
   ]
  },
  {
   "cell_type": "code",
   "execution_count": 17,
   "metadata": {
    "collapsed": false
   },
   "outputs": [],
   "source": [
    "# Set up fake data and parameters for the neural network\n",
    "N = 20\n",
    "dimensions = [10, 5, 10]\n",
    "data = np.random.randn(N, dimensions[0])   # each row will be a datum\n",
    "labels = np.zeros((N, dimensions[2]))\n",
    "for i in xrange(N):\n",
    "    labels[i,np.random.randint(0,dimensions[2]-1)] = 1\n",
    "\n",
    "params = np.random.randn((dimensions[0] + 1) * dimensions[1] + (dimensions[1] + 1) * dimensions[2], )"
   ]
  },
  {
   "cell_type": "code",
   "execution_count": 57,
   "metadata": {
    "collapsed": false
   },
   "outputs": [
    {
     "name": "stdout",
     "output_type": "stream",
     "text": [
      "(20L, 10L) (20L, 10L) (115L,)\n",
      "(10L,)\n"
     ]
    }
   ],
   "source": [
    "print data.shape, labels.shape, params.shape\n",
    "print data.T[:,0].shape"
   ]
  },
  {
   "cell_type": "code",
   "execution_count": 115,
   "metadata": {
    "collapsed": false
   },
   "outputs": [],
   "source": [
    "def forward_backward_prop(data, labels, params):\n",
    "    \"\"\" Forward and backward propagation for a two-layer sigmoidal network \"\"\"\n",
    "    ###################################################################\n",
    "    # Compute the forward propagation and for the cross entropy cost, #\n",
    "    # and backward propagation for the gradients for all parameters.  #\n",
    "    ###################################################################\n",
    "    \n",
    "    ### Unpack network parameters (do not modify)\n",
    "    t = 0\n",
    "    W1 = np.reshape(params[t:t+dimensions[0]*dimensions[1]], (dimensions[0], dimensions[1]))\n",
    "    t += dimensions[0]*dimensions[1]\n",
    "    b1 = np.reshape(params[t:t+dimensions[1]], (1, dimensions[1]))\n",
    "    t += dimensions[1]\n",
    "    W2 = np.reshape(params[t:t+dimensions[1]*dimensions[2]], (dimensions[1], dimensions[2]))\n",
    "    t += dimensions[1]*dimensions[2]\n",
    "    b2 = np.reshape(params[t:t+dimensions[2]], (1, dimensions[2]))\n",
    "    \n",
    "    ### YOUR CODE HERE: forward propagation\n",
    "    # Layer 1\n",
    "    print \"Shapes: x=> %s, W1 => %s, b1 => %s, W2 => %s, b2 => %s, y => %s\" \\\n",
    "        %(data.shape, W1.shape, b1.shape, W2.shape, b2.shape, labels.shape)\n",
    "    N = data.shape[0]\n",
    "    X = data\n",
    "    Y = labels\n",
    "    Z1 = X.dot(W1)\n",
    "    H = sigmoid(Z1+b1)\n",
    "    Z2 = H.dot(W2)\n",
    "    Y_hat = softmax(Z2+b2)\n",
    "    # cost = ...\n",
    "    cost = np.sum(-Y*np.log(Y_hat))/N\n",
    "\n",
    "    ### END YOUR CODE\n",
    "\n",
    "    ### YOUR CODE HERE: backward propagation\n",
    "    print \"z1 => %s, h => %s, z2 => %s, y_hat => %s\" % (Z1.shape, H.shape, Z2.shape, Y_hat.shape)\n",
    "    #gradW1 = ...\n",
    "    #gradb1 = ...\n",
    "    #gradW2 = ...\n",
    "    #gradb2 = ...\n",
    "    #print y\n",
    "    #print y_hat\n",
    "    #print y_hat-y\n",
    "    dZ2 = Y_hat - Y \n",
    "    dW2 = H.T.dot(dZ2)\n",
    "    db2 = np.sum(dZ2, axis=0)\n",
    "    dH = dZ2.dot(W2.T)\n",
    "    dZ1 = dH*sigmoid_grad(H)\n",
    "    dW1 = X.T.dot(dZ1)\n",
    "    db1 = np.sum(dZ1, axis=0)\n",
    "    print \"dZ2 => %s, dW2 => %s, db2 => %s\" % (dZ2.shape, dW2.shape, db2.shape)\n",
    "    \n",
    "    gradW2 = dW2/N\n",
    "    gradW1 = dW1/N\n",
    "    gradb1 = db1/N\n",
    "    gradb2 = db2/N\n",
    "\n",
    "    ### END YOUR CODE\n",
    "    \n",
    "    ### Stack gradients (do not modify)\n",
    "    grad = np.concatenate((gradW1.flatten(), gradb1.flatten(), gradW2.flatten(), gradb2.flatten()))\n",
    "    \n",
    "    return cost, grad"
   ]
  },
  {
   "cell_type": "code",
   "execution_count": 117,
   "metadata": {
    "collapsed": false
   },
   "outputs": [
    {
     "name": "stdout",
     "output_type": "stream",
     "text": [
      "=== For autograder ===\n",
      "(115L,)\n"
     ]
    },
    {
     "ename": "NameError",
     "evalue": "name 'gradcheck_naive' is not defined",
     "output_type": "error",
     "traceback": [
      "\u001b[1;31m---------------------------------------------------------------------------\u001b[0m",
      "\u001b[1;31mNameError\u001b[0m                                 Traceback (most recent call last)",
      "\u001b[1;32m<ipython-input-117-483711033303>\u001b[0m in \u001b[0;36m<module>\u001b[1;34m()\u001b[0m\n\u001b[0;32m      3\u001b[0m \u001b[1;31m#print forward_backward_prop(data, labels, params)\u001b[0m\u001b[1;33m\u001b[0m\u001b[1;33m\u001b[0m\u001b[0m\n\u001b[0;32m      4\u001b[0m \u001b[1;32mprint\u001b[0m \u001b[0mparams\u001b[0m\u001b[1;33m.\u001b[0m\u001b[0mshape\u001b[0m\u001b[1;33m\u001b[0m\u001b[0m\n\u001b[1;32m----> 5\u001b[1;33m \u001b[0mgradcheck_naive\u001b[0m\u001b[1;33m(\u001b[0m\u001b[1;32mlambda\u001b[0m \u001b[0mparams\u001b[0m\u001b[1;33m:\u001b[0m \u001b[0mforward_backward_prop\u001b[0m\u001b[1;33m(\u001b[0m\u001b[0mdata\u001b[0m\u001b[1;33m,\u001b[0m \u001b[0mlabels\u001b[0m\u001b[1;33m,\u001b[0m \u001b[0mparams\u001b[0m\u001b[1;33m)\u001b[0m\u001b[1;33m,\u001b[0m \u001b[0mparams\u001b[0m\u001b[1;33m)\u001b[0m\u001b[1;33m\u001b[0m\u001b[0m\n\u001b[0m",
      "\u001b[1;31mNameError\u001b[0m: name 'gradcheck_naive' is not defined"
     ]
    }
   ],
   "source": [
    "# Perform gradcheck on your neural network\n",
    "print \"=== For autograder ===\"\n",
    "#print forward_backward_prop(data, labels, params)\n",
    "print params.shape\n",
    "gradcheck_naive(lambda params: forward_backward_prop(data, labels, params), params)"
   ]
  },
  {
   "cell_type": "code",
   "execution_count": null,
   "metadata": {
    "collapsed": true
   },
   "outputs": [],
   "source": []
  }
 ],
 "metadata": {
  "kernelspec": {
   "display_name": "Python 2",
   "language": "python",
   "name": "python2"
  },
  "language_info": {
   "codemirror_mode": {
    "name": "ipython",
    "version": 2
   },
   "file_extension": ".py",
   "mimetype": "text/x-python",
   "name": "python",
   "nbconvert_exporter": "python",
   "pygments_lexer": "ipython2",
   "version": "2.7.9"
  }
 },
 "nbformat": 4,
 "nbformat_minor": 0
}
